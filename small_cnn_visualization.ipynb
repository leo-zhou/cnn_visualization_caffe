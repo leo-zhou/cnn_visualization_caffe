{
 "cells": [
  {
   "cell_type": "code",
   "execution_count": 1,
   "metadata": {
    "collapsed": true
   },
   "outputs": [],
   "source": [
    "import os\n",
    "import numpy as np\n",
    "import matplotlib.pyplot as plt\n",
    "import PIL.Image as Image\n",
    "import caffe\n",
    "from google.protobuf import text_format\n",
    "\n",
    "# configure plotting\n",
    "%matplotlib inline\n",
    "plt.rcParams['figure.figsize'] = (3,3)\n",
    "plt.rcParams['image.interpolation'] = 'nearest'\n",
    "plt.rcParams['image.cmap'] = 'gray'"
   ]
  },
  {
   "cell_type": "markdown",
   "metadata": {},
   "source": [
    "# Load the pretrained model\n",
    "\n",
    "The model has been pretrained using Caffe framework during 40 epochs (20.000 iterations of training with a batchsize of 100 samples and 50.000 MNIST images)."
   ]
  },
  {
   "cell_type": "code",
   "execution_count": 2,
   "metadata": {
    "collapsed": false
   },
   "outputs": [],
   "source": [
    "caffe.set_mode_cpu()\n",
    "model_path = 'models'\n",
    "model_name = 'small'\n",
    "path = os.path.join(model_path,model_name)\n",
    "\n",
    "net_fn   = os.path.join(model_path, model_name, 'deploy.prototxt')\n",
    "param_fn = os.path.join(model_path, model_name, 'small_iter_20000.caffemodel')\n",
    "\n",
    "# Patching model to be able to compute gradients.\n",
    "# Note that you can also manually add \"force_backward: true\" line to \"deploy.prototxt\".\n",
    "model = caffe.io.caffe_pb2.NetParameter()\n",
    "text_format.Merge(open(net_fn).read(), model)\n",
    "model.force_backward = True\n",
    "open('tmp.prototxt', 'w').write(str(model))\n",
    "\n",
    "net = caffe.Classifier('tmp.prototxt', param_fn, caffe.TEST)"
   ]
  },
  {
   "cell_type": "markdown",
   "metadata": {},
   "source": [
    "# Summary\n",
    "\n",
    "Here we print a summary of the network's architecture: \n",
    "* the layers\n",
    "* the feature maps at each layer with their corresponding size\n",
    "* the parameters with their minimum and maximi value per layer (without the biases)."
   ]
  },
  {
   "cell_type": "code",
   "execution_count": 3,
   "metadata": {
    "collapsed": false
   },
   "outputs": [
    {
     "name": "stdout",
     "output_type": "stream",
     "text": [
      "Architecture of small network\n",
      "---------------------\n",
      "Dropout\n",
      "Convolution\n",
      "ReLU\n",
      "Pooling\n",
      "Convolution\n",
      "ReLU\n",
      "InnerProduct\n",
      "Softmax\n",
      "\n",
      "Feature map sizes (Blobs)\n",
      "-------------------------\n",
      "data = \t(1, 1, 24, 24)\n",
      "conv1 = \t(1, 9, 20, 20)\n",
      "pool1 = \t(1, 9, 10, 10)\n",
      "conv2 = \t(1, 16, 6, 6)\n",
      "ip1 = \t(1, 10)\n",
      "prob = \t(1, 10)\n",
      "\n",
      "Parameter shape\n",
      "---------------\n",
      "conv1 = (9, 1, 5, 5) \t(min,max) = (-0.81,1.45)\n",
      "conv2 = (16, 9, 5, 5) \t(min,max) = (-0.43,0.49)\n",
      "ip1 = (10, 576) \t(min,max) = (-0.46,0.48)\n",
      "\n"
     ]
    }
   ],
   "source": [
    "def network_summary(net):\n",
    "    \"\"\"\n",
    "    Returns a string with a summary of the specified network\n",
    "    \"\"\"\n",
    "    string = \"Architecture of {} network\\n---------------------\".format(model_name)\n",
    "    for layer in net.layers:\n",
    "        string += \"\\n\" + layer.type\n",
    "\n",
    "    string += \"\\n\\nFeature map sizes (Blobs)\\n-------------------------\"\n",
    "    for layer in net.blobs.keys():\n",
    "        string += \"\\n{} = \\t{}\".format(layer, net.blobs[layer].data.shape)\n",
    "\n",
    "    string += \"\\n\\nParameter shape\\n---------------\"\n",
    "    for layer in net.params.keys():\n",
    "        string += \"\\n{} = {} \\t(min,max) = ({:.2f},{:.2f})\".format(\n",
    "                layer, net.params[layer][0].data.shape,\n",
    "                net.params[layer][0].data.min(), \n",
    "                net.params[layer][0].data.max())\n",
    "    string += \"\\n\"\n",
    "    return string\n",
    "\n",
    "def print_network_summary(net):\n",
    "    \"\"\"\n",
    "    Prints the summary of the specified network\n",
    "    \"\"\"\n",
    "    print network_summary(net)\n",
    "    \n",
    "print_network_summary(net)"
   ]
  },
  {
   "cell_type": "code",
   "execution_count": null,
   "metadata": {
    "collapsed": true
   },
   "outputs": [],
   "source": []
  }
 ],
 "metadata": {
  "kernelspec": {
   "display_name": "Python 2",
   "language": "python",
   "name": "python2"
  },
  "language_info": {
   "codemirror_mode": {
    "name": "ipython",
    "version": 2
   },
   "file_extension": ".py",
   "mimetype": "text/x-python",
   "name": "python",
   "nbconvert_exporter": "python",
   "pygments_lexer": "ipython2",
   "version": "2.7.10"
  }
 },
 "nbformat": 4,
 "nbformat_minor": 0
}
